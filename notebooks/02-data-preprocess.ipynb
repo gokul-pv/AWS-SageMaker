{
 "cells": [
  {
   "cell_type": "code",
   "execution_count": 2,
   "id": "ed83e591-65e7-455f-ab4f-d9ae77a00050",
   "metadata": {
    "tags": []
   },
   "outputs": [
    {
     "name": "stdout",
     "output_type": "stream",
     "text": [
      "/root\n"
     ]
    }
   ],
   "source": [
    "!pwd"
   ]
  },
  {
   "cell_type": "code",
   "execution_count": 3,
   "id": "1545498a-2c83-4d69-b44a-df08fc17c2b1",
   "metadata": {
    "tags": []
   },
   "outputs": [
    {
     "name": "stdout",
     "output_type": "stream",
     "text": [
      "\u001b[33mWARNING: Running pip as the 'root' user can result in broken permissions and conflicting behaviour with the system package manager. It is recommended to use a virtual environment instead: https://pip.pypa.io/warnings/venv\u001b[0m\u001b[33m\n",
      "\u001b[0m\n",
      "\u001b[1m[\u001b[0m\u001b[34;49mnotice\u001b[0m\u001b[1;39;49m]\u001b[0m\u001b[39;49m A new release of pip available: \u001b[0m\u001b[31;49m22.2.2\u001b[0m\u001b[39;49m -> \u001b[0m\u001b[32;49m22.3.1\u001b[0m\n",
      "\u001b[1m[\u001b[0m\u001b[34;49mnotice\u001b[0m\u001b[1;39;49m]\u001b[0m\u001b[39;49m To update, run: \u001b[0m\u001b[32;49mpip install --upgrade pip\u001b[0m\n"
     ]
    }
   ],
   "source": [
    "! pip install --quiet git-remote-codecommit"
   ]
  },
  {
   "cell_type": "code",
   "execution_count": 4,
   "id": "c2b10f4c-0b06-4f84-8284-d0a470781a0c",
   "metadata": {
    "tags": []
   },
   "outputs": [
    {
     "name": "stdout",
     "output_type": "stream",
     "text": [
      "account: 441249477288\n",
      "bucket: sagemaker-ap-south-1-441249477288\n",
      "region: ap-south-1\n",
      "role: arn:aws:iam::441249477288:role/service-role/AmazonSageMaker-ExecutionRole-20221207T104621\n"
     ]
    }
   ],
   "source": [
    "import boto3\n",
    "import sagemaker\n",
    "import time\n",
    "from time import strftime\n",
    "\n",
    "boto_session = boto3.Session()\n",
    "sagemaker_session = sagemaker.Session(boto_session=boto_session)\n",
    "sm_client = boto3.client(\"sagemaker\")\n",
    "region = boto_session.region_name\n",
    "bucket = sagemaker_session.default_bucket()\n",
    "role = sagemaker.get_execution_role()\n",
    "account = sagemaker_session.boto_session.client(\"sts\").get_caller_identity()[\"Account\"]\n",
    "\n",
    "\n",
    "print(f\"account: {account}\")\n",
    "print(f\"bucket: {bucket}\")\n",
    "print(f\"region: {region}\")\n",
    "print(f\"role: {role}\")"
   ]
  },
  {
   "cell_type": "code",
   "execution_count": 5,
   "id": "3aef066b-3eb8-4e9c-b8ca-e1fec9ef7201",
   "metadata": {
    "tags": []
   },
   "outputs": [],
   "source": [
    "from sagemaker.pytorch.processing import PyTorchProcessor\n",
    "from sagemaker.processing import ProcessingInput, ProcessingOutput\n",
    "from sagemaker import get_execution_role"
   ]
  },
  {
   "cell_type": "code",
   "execution_count": 6,
   "id": "49d3779c-5211-4f51-9670-22d2b6287125",
   "metadata": {
    "tags": []
   },
   "outputs": [],
   "source": [
    "input_dataset = \"s3://sagemaker-ap-south-1-441249477288/dataset/intel.zip\""
   ]
  },
  {
   "cell_type": "code",
   "execution_count": 7,
   "id": "fd9d2589-c0e3-4d41-9ecf-7d95eb8f3925",
   "metadata": {
    "tags": []
   },
   "outputs": [],
   "source": [
    "dvc_repo_url = \"codecommit::ap-south-1://sagemaker-intel\"\n",
    "dvc_branch = \"processed-dataset\""
   ]
  },
  {
   "cell_type": "markdown",
   "id": "aeb006ff-a1ed-42eb-b80c-74dcb8d55627",
   "metadata": {
    "tags": []
   },
   "source": [
    "# The following block will take the code from EFS storage, zip and store to S3. The specified docker image is pulled from ECR with code from S3 and served"
   ]
  },
  {
   "cell_type": "code",
   "execution_count": 10,
   "id": "82d99f71-a6af-4244-80c7-6be6983cc129",
   "metadata": {
    "tags": []
   },
   "outputs": [],
   "source": [
    "# pytorch_processor = PyTorchProcessor(\n",
    "#     image_uri=\"441249477288.dkr.ecr.ap-south-1.amazonaws.com/sagemaker-training\",\n",
    "#     framework_version='1.12',\n",
    "#     role=get_execution_role(),\n",
    "#     instance_type='ml.t3.medium',\n",
    "#     instance_count=1,\n",
    "#     base_job_name='preprocess-intel-dataset',\n",
    "#     env={\n",
    "#         \"DVC_REPO_URL\": dvc_repo_url,\n",
    "#         \"DVC_BRANCH\": dvc_branch,\n",
    "#         \"GIT_USER\": \"gokul-pv\",\n",
    "#         \"GIT_EMAIL\": \"25975535+gokul-pv@users.noreply.github.com\"\n",
    "#     }\n",
    "# )"
   ]
  },
  {
   "cell_type": "code",
   "execution_count": null,
   "id": "96f0634c-96e4-45d8-a14e-1e25a7dbcf52",
   "metadata": {
    "tags": []
   },
   "outputs": [],
   "source": [
    "# pytorch_processor.run(\n",
    "#     code=\"AWS-SageMaker/preprocess.py\",\n",
    "#     inputs=[\n",
    "#         ProcessingInput(\n",
    "#             input_name='data',\n",
    "#             source=input_dataset,\n",
    "#             destination='/opt/ml/processing/input'\n",
    "#         )\n",
    "#     ],\n",
    "# )"
   ]
  },
  {
   "cell_type": "markdown",
   "id": "07b6871a-3ab5-44f6-b7c5-81f1f5d7e804",
   "metadata": {},
   "source": [
    "# The following block will take the specified docker image from ECR and run the code which is inside the docker"
   ]
  },
  {
   "cell_type": "code",
   "execution_count": 8,
   "id": "913510a4-5fc8-4758-9d59-798f9d45a132",
   "metadata": {
    "tags": []
   },
   "outputs": [],
   "source": [
    "from sagemaker.processing import Processor"
   ]
  },
  {
   "cell_type": "code",
   "execution_count": 9,
   "id": "60e6785c-ec1d-45fd-ab23-719358ed4027",
   "metadata": {
    "tags": []
   },
   "outputs": [],
   "source": [
    "pytorch_processor = Processor(\n",
    "    role=get_execution_role(),\n",
    "    image_uri=\"441249477288.dkr.ecr.ap-south-1.amazonaws.com/sagemaker-training\",\n",
    "    instance_count=1,\n",
    "    # instance_type=\"local\",\n",
    "    instance_type='ml.t3.medium',\n",
    "    entrypoint = [\"python\", \"code/preprocess.py\"],\n",
    "    base_job_name='preprocess-intel-dataset',\n",
    "    env={\n",
    "        \"DVC_REPO_URL\": dvc_repo_url,\n",
    "        \"DVC_BRANCH\": dvc_branch,\n",
    "        \"GIT_USER\": \"gokul-pv\",\n",
    "        \"GIT_EMAIL\": \"25975535+gokul-pv@users.noreply.github.com\"\n",
    "    }\n",
    ")"
   ]
  },
  {
   "cell_type": "code",
   "execution_count": 10,
   "id": "27462504-405e-4f54-bd60-b8f320946d2f",
   "metadata": {
    "tags": []
   },
   "outputs": [
    {
     "name": "stdout",
     "output_type": "stream",
     "text": [
      "\n",
      "Job Name:  preprocess-intel-dataset-2022-12-14-06-38-04-974\n",
      "Inputs:  [{'InputName': 'data', 'AppManaged': False, 'S3Input': {'S3Uri': 's3://sagemaker-ap-south-1-441249477288/dataset/intel.zip', 'LocalPath': '/opt/ml/processing/input', 'S3DataType': 'S3Prefix', 'S3InputMode': 'File', 'S3DataDistributionType': 'FullyReplicated', 'S3CompressionType': 'None'}}]\n",
      "Outputs:  []\n",
      "...........................................................................................................................................................\u001b[34m:: Configuring Git\u001b[0m\n",
      "\u001b[34m#011:: Cloning repo: codecommit::ap-south-1://sagemaker-intel\u001b[0m\n",
      "\u001b[34m:: Generate Train Test Split\u001b[0m\n",
      "\u001b[34m:: Extracting Zip /opt/ml/processing/input/intel.zip to /opt/ml/processing/tmp\u001b[0m\n",
      "\u001b[34m#011:: Creating Directory /opt/ml/processing/sagemaker-intel/dataset/train\u001b[0m\n",
      "\u001b[34m#011:: Creating Directory /opt/ml/processing/sagemaker-intel/dataset/test\u001b[0m\n",
      "\u001b[34m:: Saving Datasets\u001b[0m\n",
      "\u001b[34m:: Sync Processed Data to Git & DVC\u001b[0m\n",
      "\u001b[34m:: Create branch processed-dataset\u001b[0m\n",
      "\u001b[34m#011:: Create a new branch: processed-dataset\u001b[0m\n",
      "\u001b[34m:: Add files to DVC\u001b[0m\n",
      "\u001b[34mTo track the changes with git, run:\u001b[0m\n",
      "\u001b[34m#011git add .gitignore dataset.dvc\u001b[0m\n",
      "\u001b[34m#011:: Push data to DVC\u001b[0m\n",
      "\u001b[34m17017 files pushed\u001b[0m\n",
      "\u001b[34m#011:: Push dvc metadata to git\u001b[0m\n",
      "\u001b[34m:: Commit Hash: d60546d2162e284d12f14d3a02ea2eb25b914250\u001b[0m\n",
      "\n"
     ]
    }
   ],
   "source": [
    "pytorch_processor.run(\n",
    "    inputs=[\n",
    "        ProcessingInput(\n",
    "            input_name='data',\n",
    "            source=input_dataset,\n",
    "            destination='/opt/ml/processing/input'\n",
    "        )\n",
    "    ],\n",
    ")"
   ]
  },
  {
   "cell_type": "code",
   "execution_count": null,
   "id": "a53813c6-2c54-4d21-b09e-828a623898d7",
   "metadata": {
    "tags": []
   },
   "outputs": [],
   "source": []
  }
 ],
 "metadata": {
  "instance_type": "ml.t3.medium",
  "kernelspec": {
   "display_name": "Python 3 (PyTorch 1.12 Python 3.8 CPU Optimized)",
   "language": "python",
   "name": "python3__SAGEMAKER_INTERNAL__arn:aws:sagemaker:ap-south-1:394103062818:image/pytorch-1.12-cpu-py38"
  },
  "language_info": {
   "codemirror_mode": {
    "name": "ipython",
    "version": 3
   },
   "file_extension": ".py",
   "mimetype": "text/x-python",
   "name": "python",
   "nbconvert_exporter": "python",
   "pygments_lexer": "ipython3",
   "version": "3.8.13"
  }
 },
 "nbformat": 4,
 "nbformat_minor": 5
}
